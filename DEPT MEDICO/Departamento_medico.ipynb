{
  "nbformat": 4,
  "nbformat_minor": 0,
  "metadata": {
    "colab": {
      "name": "Departamento_medico.ipynb",
      "provenance": []
    },
    "kernelspec": {
      "name": "python3",
      "display_name": "Python 3"
    },
    "language_info": {
      "name": "python"
    }
  },
  "cells": [
    {
      "cell_type": "markdown",
      "source": [
        "# Departamento médico"
      ],
      "metadata": {
        "id": "THBZF3LmeaHv"
      }
    },
    {
      "cell_type": "markdown",
      "source": [
        "## Importação das bibliotecas e base de dados"
      ],
      "metadata": {
        "id": "ZP-MYXWAedXz"
      }
    },
    {
      "cell_type": "code",
      "source": [
        "import os # recursos do sistema operacional\n",
        "import cv2 # OpenCV Visão computacional para fazer leitura de imagens\n",
        "import tensorflow as tf # Trabalhar com DL e redes neurais\n",
        "import numpy as np\n",
        "from tensorflow.keras import layers, optimizers # layers = camadas das redes neurais # optimizers = algoritmos para ajustes dos pesos\n",
        "from tensorflow.keras.applications import ResNet50 # Tipo de rede neural convolucional\n",
        "from tensorflow.keras.layers import Input, Dense, AveragePooling2D, Dropout, Flatten \n",
        "from tensorflow.keras.models import Model # Criar rede neural\n",
        "from tensorflow.keras.preprocessing.image import ImageDataGenerator # Acessar diretório de imagens para enviarmos a rede neural\n",
        "from tensorflow.keras.callbacks import ModelCheckpoint # Salvar os pesos da rede neural\n",
        "import matplotlib.pyplot as plt\n",
        "import seaborn as sns"
      ],
      "metadata": {
        "id": "Rk_ZhSPke5c5"
      },
      "execution_count": 1,
      "outputs": []
    },
    {
      "cell_type": "code",
      "source": [
        "#  Utilizar imagens do Google Drive\n",
        "from google.colab import drive\n",
        "drive.mount('/content/drive')"
      ],
      "metadata": {
        "colab": {
          "base_uri": "https://localhost:8080/"
        },
        "id": "7gbfx4Ql5_cH",
        "outputId": "ea825806-cb71-43e7-f267-7825e7ba1f56"
      },
      "execution_count": 2,
      "outputs": [
        {
          "output_type": "stream",
          "name": "stdout",
          "text": [
            "Mounted at /content/drive\n"
          ]
        }
      ]
    },
    {
      "cell_type": "code",
      "source": [
        "# Diretório das imagens\n",
        "xray_dir = '/content/drive/MyDrive/Ciência de Dados para Empresas e Negócios/DPTO_MEDICO/Dataset'\n",
        "os.listdir(xray_dir)"
      ],
      "metadata": {
        "colab": {
          "base_uri": "https://localhost:8080/"
        },
        "id": "UIJIO8l_8d8L",
        "outputId": "bff672aa-fff6-4479-f8c6-d1c997db16de"
      },
      "execution_count": 5,
      "outputs": [
        {
          "output_type": "execute_result",
          "data": {
            "text/plain": [
              "['2', '.DS_Store', '0', '1', '3']"
            ]
          },
          "metadata": {},
          "execution_count": 5
        }
      ]
    },
    {
      "cell_type": "code",
      "source": [
        "# Acessar as imagens\n",
        "image_generator = ImageDataGenerator(rescale = 1./255) # RESCALE : Mudar a escala da imagem | Converter RGB em escalas de 0 e 1"
      ],
      "metadata": {
        "id": "KagNcIvn9T4i"
      },
      "execution_count": 6,
      "outputs": []
    },
    {
      "cell_type": "code",
      "source": [
        "# Imagens de treinamento | Realizar leitura das imagens\n",
        "train_generator = image_generator.flow_from_directory(batch_size=40, shuffle=True, target_size=(256, 256), class_mode='categorical', subset='training', directory=xray_dir) \n",
        "# Batch size: separação das imagens\n",
        "# Shuffle: Aleatoriedade\n",
        "# Target_size: Tam das imagens (importante dependendo da rede neural)\n",
        "# Class Mode: Tipo da classe\n",
        "# Subset: Indicar que é imagem de treinamento"
      ],
      "metadata": {
        "colab": {
          "base_uri": "https://localhost:8080/"
        },
        "id": "NsoROsUs997M",
        "outputId": "1e53977f-e0c7-4d81-ef9b-d92a9968dbe9"
      },
      "execution_count": 8,
      "outputs": [
        {
          "output_type": "stream",
          "name": "stdout",
          "text": [
            "Found 532 images belonging to 4 classes.\n"
          ]
        }
      ]
    },
    {
      "cell_type": "code",
      "source": [
        "train_images, train_labels = next(train_generator) # Leitura das imagens de 40 em 40"
      ],
      "metadata": {
        "id": "4eppJoJ2_I9r"
      },
      "execution_count": 9,
      "outputs": []
    },
    {
      "cell_type": "code",
      "source": [
        "img_per_batch, altura, largura, canais = train_images.shape\n",
        "print(f'Cada batch contém {img_per_batch} imagens, medindo {altura}x{largura} possuindo {canais} canais, o que significa que é RGB')"
      ],
      "metadata": {
        "colab": {
          "base_uri": "https://localhost:8080/"
        },
        "id": "rIjY6I___pBt",
        "outputId": "c70d05c1-db15-4dcd-83c0-ba5c7adec372"
      },
      "execution_count": 10,
      "outputs": [
        {
          "output_type": "stream",
          "name": "stdout",
          "text": [
            "Cada batch contém 40 imagens, medindo 256x256 possuindo 3 canais, o que significa que é RGB\n"
          ]
        }
      ]
    },
    {
      "cell_type": "markdown",
      "source": [
        "### Classe das imagens\n",
        "- 0: Imagens de COVID\n",
        "- 1: Imagens normais\n",
        "- 2: Pneumonia viral\n",
        "- 3: Pneumonia bacterial"
      ],
      "metadata": {
        "id": "Q9igahF08OWv"
      }
    },
    {
      "cell_type": "code",
      "source": [
        "classes = {0: 'Covid-19', 1: 'Normal', 2: 'Pneumonia viral', 3: 'Pneumonia bacterial'}"
      ],
      "metadata": {
        "id": "YhDGHSyrAScJ"
      },
      "execution_count": 12,
      "outputs": []
    },
    {
      "cell_type": "code",
      "source": [
        "# Classes para cada imagens\n",
        "train_labels"
      ],
      "metadata": {
        "colab": {
          "base_uri": "https://localhost:8080/"
        },
        "id": "FyGFwND4AJFJ",
        "outputId": "5ec4b688-dd8c-4f40-b244-e5e14362f69b"
      },
      "execution_count": 11,
      "outputs": [
        {
          "output_type": "execute_result",
          "data": {
            "text/plain": [
              "array([[0., 0., 1., 0.],\n",
              "       [0., 1., 0., 0.],\n",
              "       [0., 1., 0., 0.],\n",
              "       [0., 0., 0., 1.],\n",
              "       [0., 0., 0., 1.],\n",
              "       [0., 0., 0., 1.],\n",
              "       [0., 0., 0., 1.],\n",
              "       [0., 0., 1., 0.],\n",
              "       [0., 0., 1., 0.],\n",
              "       [0., 1., 0., 0.],\n",
              "       [1., 0., 0., 0.],\n",
              "       [0., 0., 0., 1.],\n",
              "       [1., 0., 0., 0.],\n",
              "       [0., 0., 0., 1.],\n",
              "       [1., 0., 0., 0.],\n",
              "       [1., 0., 0., 0.],\n",
              "       [0., 0., 0., 1.],\n",
              "       [1., 0., 0., 0.],\n",
              "       [0., 0., 0., 1.],\n",
              "       [0., 1., 0., 0.],\n",
              "       [0., 1., 0., 0.],\n",
              "       [1., 0., 0., 0.],\n",
              "       [0., 0., 1., 0.],\n",
              "       [0., 0., 1., 0.],\n",
              "       [0., 0., 0., 1.],\n",
              "       [1., 0., 0., 0.],\n",
              "       [0., 0., 0., 1.],\n",
              "       [0., 1., 0., 0.],\n",
              "       [0., 1., 0., 0.],\n",
              "       [1., 0., 0., 0.],\n",
              "       [0., 1., 0., 0.],\n",
              "       [1., 0., 0., 0.],\n",
              "       [1., 0., 0., 0.],\n",
              "       [0., 0., 1., 0.],\n",
              "       [0., 0., 1., 0.],\n",
              "       [0., 0., 1., 0.],\n",
              "       [0., 0., 1., 0.],\n",
              "       [0., 1., 0., 0.],\n",
              "       [0., 0., 1., 0.],\n",
              "       [0., 1., 0., 0.]], dtype=float32)"
            ]
          },
          "metadata": {},
          "execution_count": 11
        }
      ]
    },
    {
      "cell_type": "markdown",
      "source": [
        "## Visualização dos dados"
      ],
      "metadata": {
        "id": "EZvD4dAZeg5X"
      }
    },
    {
      "cell_type": "markdown",
      "source": [
        "## Carregamento da rede neural com pesos pré-treinados"
      ],
      "metadata": {
        "id": "f1SLy-e2ejVz"
      }
    },
    {
      "cell_type": "markdown",
      "source": [
        "## Construção e treinamento do modelo de deep learning"
      ],
      "metadata": {
        "id": "yngVeblnenF1"
      }
    },
    {
      "cell_type": "markdown",
      "source": [
        "## Avaliação da rede neural"
      ],
      "metadata": {
        "id": "hlbC0tVKerZZ"
      }
    },
    {
      "cell_type": "markdown",
      "source": [
        "## Classificação de somente uma imagem"
      ],
      "metadata": {
        "id": "TjgDOdfFevUY"
      }
    }
  ]
}