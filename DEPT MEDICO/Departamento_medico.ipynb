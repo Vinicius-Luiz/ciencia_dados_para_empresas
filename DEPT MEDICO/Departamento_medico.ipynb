{
  "nbformat": 4,
  "nbformat_minor": 0,
  "metadata": {
    "colab": {
      "name": "Departamento_medico.ipynb",
      "provenance": []
    },
    "kernelspec": {
      "name": "python3",
      "display_name": "Python 3"
    },
    "language_info": {
      "name": "python"
    }
  },
  "cells": [
    {
      "cell_type": "markdown",
      "source": [
        "# Departamento médico"
      ],
      "metadata": {
        "id": "THBZF3LmeaHv"
      }
    },
    {
      "cell_type": "markdown",
      "source": [
        "## Importação das bibliotecas e base de dados"
      ],
      "metadata": {
        "id": "ZP-MYXWAedXz"
      }
    },
    {
      "cell_type": "code",
      "source": [
        "import os # recursos do sistema operacional\n",
        "import cv2 # OpenCV Visão computacional para fazer leitura de imagens\n",
        "import tensorflow as tf # Trabalhar com DL e redes neurais\n",
        "import numpy as np\n",
        "from tensorflow.keras import layers, optimizers # layers = camadas das redes neurais # optimizers = algoritmos para ajustes dos pesos\n",
        "from tensorflow.keras.applications import ResNet50 # Tipo de rede neural convolucional\n",
        "from tensorflow.keras.layers import Input, Dense, AveragePooling2D, Dropout, Flatten \n",
        "from tensorflow.keras.models import Model # Criar rede neural\n",
        "from tensorflow.keras.preprocessing.image import ImageDataGenerator # Acessar diretório de imagens para enviarmos a rede neural\n",
        "from tensorflow.keras.callbacks import ModelCheckpoint # Salvar os pesos da rede neural\n",
        "import matplotlib.pyplot as plt\n",
        "import seaborn as sns"
      ],
      "metadata": {
        "id": "Rk_ZhSPke5c5"
      },
      "execution_count": 2,
      "outputs": []
    },
    {
      "cell_type": "markdown",
      "source": [
        "## Visualização dos dados"
      ],
      "metadata": {
        "id": "EZvD4dAZeg5X"
      }
    },
    {
      "cell_type": "markdown",
      "source": [
        "## Carregamento da rede neural com pesos pré-treinados"
      ],
      "metadata": {
        "id": "f1SLy-e2ejVz"
      }
    },
    {
      "cell_type": "markdown",
      "source": [
        "## Construção e treinamento do modelo de deep learning"
      ],
      "metadata": {
        "id": "yngVeblnenF1"
      }
    },
    {
      "cell_type": "markdown",
      "source": [
        "## Avaliação da rede neural"
      ],
      "metadata": {
        "id": "hlbC0tVKerZZ"
      }
    },
    {
      "cell_type": "markdown",
      "source": [
        "## Classificação de somente uma imagem"
      ],
      "metadata": {
        "id": "TjgDOdfFevUY"
      }
    }
  ]
}