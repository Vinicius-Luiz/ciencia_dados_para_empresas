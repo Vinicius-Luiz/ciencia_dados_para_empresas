{
  "nbformat": 4,
  "nbformat_minor": 0,
  "metadata": {
    "colab": {
      "name": "Departamento de Marketing - Agrupamentos definidos",
      "provenance": []
    },
    "kernelspec": {
      "name": "python3",
      "display_name": "Python 3"
    },
    "language_info": {
      "name": "python"
    }
  },
  "cells": [
    {
      "cell_type": "code",
      "source": [
        "import pandas as pd\n",
        "import numpy as np #Funções matemáticas\n",
        "import seaborn as sns #Gerar gráficos\n",
        "import matplotlib.pyplot as plt #Gerar gráficos\n",
        "import pickle #Gravar variáveis\n",
        "from sklearn.preprocessing import StandardScaler #Colocar os dados no mesmo padarão (mesma escala)\n",
        "from sklearn.cluster import KMeans #Realizar a segmentação do mercado / Agrupamento dos clientes\n",
        "from sklearn.decomposition import PCA #Reduzir a dimensionalidade dos dados"
      ],
      "metadata": {
        "id": "HtlLVQOWdczV"
      },
      "execution_count": null,
      "outputs": []
    },
    {
      "cell_type": "code",
      "execution_count": null,
      "metadata": {
        "id": "jr7t_r49dUzi"
      },
      "outputs": [],
      "source": [
        "def open_cluster_centers():\n",
        "  #carregando arquivos\n",
        "  with open('agrupamentos_clientes.pkl','rb') as f:\n",
        "    return pickle.load(f)"
      ]
    },
    {
      "cell_type": "code",
      "source": [
        "cluster_centers, creditcard_df, labels, n_clusters, kmeans, scaler = open_cluster_centers()"
      ],
      "metadata": {
        "id": "ChWI_8IgdiD7"
      },
      "execution_count": null,
      "outputs": []
    },
    {
      "cell_type": "code",
      "source": [
        "#Adicionando a classificação do agrupamento nos respectivos clientes\n",
        "creditcard_df_cluster = pd.concat([creditcard_df, pd.DataFrame({'cluster': labels})], axis=1) #axis: colocar os dados numa outra coluna\n",
        "creditcard_df_cluster.head()"
      ],
      "metadata": {
        "id": "dwkK49TIev74"
      },
      "execution_count": null,
      "outputs": []
    },
    {
      "cell_type": "code",
      "source": [
        "for i in creditcard_df.columns:\n",
        "  plt.figure(figsize=(35,5))\n",
        "  for j in range(n_clusters):\n",
        "    plt.subplot(1, n_clusters, j+1) #número de linhas; colunas; index do gráfico\n",
        "    cluster = creditcard_df_cluster[creditcard_df_cluster['cluster'] == j] #em cada linha vamos apresentar os atributos específicos para cada um dos grupos\n",
        "    cluster[i].hist(bins = 20) #Criar histograma | bins = numero de divisões \n",
        "    plt.title(f'{i} \\n Cluster {j}')\n",
        "  plt.show()"
      ],
      "metadata": {
        "id": "Gyj3plBBfoB2"
      },
      "execution_count": null,
      "outputs": []
    },
    {
      "cell_type": "code",
      "source": [
        "creditcard_order = creditcard_df_cluster.sort_values(by = 'cluster')\n",
        "creditcard_order.to_csv('creditcard_order.csv', float_format = \"%.2f\")"
      ],
      "metadata": {
        "id": "brFfiFNNhOSs"
      },
      "execution_count": null,
      "outputs": []
    },
    {
      "cell_type": "markdown",
      "source": [
        "## Aplicação de PCA (principal component analysis) e visualização dos resultados"
      ],
      "metadata": {
        "id": "DcFaVXbkluOy"
      }
    },
    {
      "cell_type": "code",
      "source": [
        "pca = PCA(n_components=2) #número de componentes principais | Vamos transformar 18 características em 2 características\n",
        "principal_comp = pca.fit_transform(credit_card_scaled)\n",
        "principal_comp"
      ],
      "metadata": {
        "id": "wMsePKT-O4I6"
      },
      "execution_count": null,
      "outputs": []
    },
    {
      "cell_type": "code",
      "source": [
        "pca_df = pd.DataFrame(data = principal_comp, columns = ['pca1','pca2']) #É difícil interpretar esses dados, pois foram realizados vários calculos para defini-los"
      ],
      "metadata": {
        "id": "udRw9mgFPPhs"
      },
      "execution_count": null,
      "outputs": []
    },
    {
      "cell_type": "code",
      "source": [
        "pca_df = pd.concat([pca_df, pd.DataFrame{'cluster': labels})], axis=1)\n",
        "pca_df.head()"
      ],
      "metadata": {
        "id": "g5IBWcndQ2HJ"
      },
      "execution_count": null,
      "outputs": []
    },
    {
      "cell_type": "code",
      "source": [
        "plt.figure(figsize=(10,10))\n",
        "sns.scatterplot(x = 'pca1', y = 'pca2', hue = 'cluster', data = pca_df, palette = ['red','blue','green','yellow','pink','orange'])"
      ],
      "metadata": {
        "id": "QNoC8jVrRJuT"
      },
      "execution_count": null,
      "outputs": []
    },
    {
      "cell_type": "markdown",
      "source": [
        "## Aplicação de autoencoders"
      ],
      "metadata": {
        "id": "Ij8a7g9di2KL"
      }
    }
  ]
}